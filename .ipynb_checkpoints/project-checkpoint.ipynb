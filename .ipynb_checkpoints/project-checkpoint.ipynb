{
 "cells": [
  {
   "cell_type": "code",
   "execution_count": 110,
   "metadata": {
    "collapsed": true
   },
   "outputs": [],
   "source": [
    "import math\n",
    "import csv\n",
    "import json\n",
    "import numpy\n",
    "from collections import Counter\n",
    "from collections import OrderedDict"
   ]
  },
  {
   "cell_type": "code",
   "execution_count": 99,
   "metadata": {
    "collapsed": true
   },
   "outputs": [],
   "source": [
    "class data_transform:\n",
    "    def _init_(self,file_name):\n",
    "        self.file_name = file_name\n",
    "    def tran_json(self,file_name):\n",
    "        f = open(file_name)\n",
    "        self.data = [json.loads(line.rstrip()) for line in f]\n",
    "        return self.data"
   ]
  },
  {
   "cell_type": "code",
   "execution_count": 100,
   "metadata": {
    "collapsed": false
   },
   "outputs": [],
   "source": [
    "review = data_transform()\n",
    "raw_data = review.tran_json(\"yelp_dataset/yelp_academic_dataset_review_sample.json\")\n",
    "\n",
    "user = []\n",
    "business = []\n",
    "for rev in raw_data:\n",
    "    if rev[\"user_id\"] in business:\n",
    "        pass\n",
    "    else:\n",
    "        user.append(rev[\"user_id\"])\n",
    "    if rev[\"business_id\"] in business:\n",
    "        pass\n",
    "    else:\n",
    "        business.append(rev[\"business_id\"])\n",
    "business.sort()\n",
    "user.sort()"
   ]
  },
  {
   "cell_type": "code",
   "execution_count": 101,
   "metadata": {
    "collapsed": false
   },
   "outputs": [
    {
     "data": {
      "text/plain": [
       "99991"
      ]
     },
     "execution_count": 101,
     "metadata": {},
     "output_type": "execute_result"
    }
   ],
   "source": [
    "len(business)\n",
    "len(user)"
   ]
  },
  {
   "cell_type": "code",
   "execution_count": 108,
   "metadata": {
    "collapsed": false
   },
   "outputs": [],
   "source": [
    "def matrix_user_based(raw_data,business):\n",
    "    user_dict = {}\n",
    "    for rev in raw_data:\n",
    "        if rev[\"user_id\"] in user_dict:\n",
    "            user_dict[rev[\"user_id\"]][rev[\"business_id\"]] = int(rev[\"stars\"])\n",
    "        else:\n",
    "            user_dict[rev[\"user_id\"]] = {rev[\"business_id\"]:int(rev[\"stars\"])}\n",
    "    user_dict = OrderedDict(sorted(user_dict.items(),key = lambda x: x[0]))\n",
    "    print type(user_dict)\n",
    "    matrix = []\n",
    "    for user,value in user_dict.items():\n",
    "        matrix_value = []\n",
    "        for bus in business:\n",
    "            if bus in value:\n",
    "                matrix_value.append(value[bus])\n",
    "            else:\n",
    "                matrix_value.append(.0)\n",
    "        matrix.append(matrix_value)\n",
    "    return matrix"
   ]
  },
  {
   "cell_type": "code",
   "execution_count": 113,
   "metadata": {
    "collapsed": false
   },
   "outputs": [
    {
     "name": "stdout",
     "output_type": "stream",
     "text": [
      "<class 'collections.OrderedDict'>\n"
     ]
    }
   ],
   "source": [
    "a = numpy.array(matrix_user_based(raw_data,business))"
   ]
  },
  {
   "cell_type": "code",
   "execution_count": null,
   "metadata": {
    "collapsed": false
   },
   "outputs": [],
   "source": [
    "def similarity_cos(vector_x,vector_y):\n",
    "    top = sum([x*y for x,y in zip(vector_x,vector_y)])\n",
    "    bottom = math.sqrt(sum([x**2 for x in vector_x])) * math.sqrt(sum([y**2 for y in vector_y]))\n",
    "    similarity = float(top)/bottom\n",
    "    return similarity"
   ]
  },
  {
   "cell_type": "code",
   "execution_count": null,
   "metadata": {
    "collapsed": false
   },
   "outputs": [],
   "source": [
    "def user_based_cf(custom,user,matrix,n,m):\n",
    "\n",
    "    recommend_list = []\n",
    "    index = user.index(custom) \n",
    "    list_sim = []\n",
    "    for i in xrange(len(user)):\n",
    "        if i != index:\n",
    "            sim = similarity_cos(matrix[i],matrix[index])\n",
    "            list_sim.append([i,sim])\n",
    "        else:\n",
    "            continue\n",
    "    top = sorted(list_sim,key = lambda x:x[1],reverse = True)[:n] \n",
    "\n",
    "    for key.value in enumerate(matrix[index]):\n",
    "        if value == 0.0:\n",
    "            predict_val = 0\n",
    "            div_sum = 0\n",
    "            for user_top in top:\n",
    "                if matrix[user_top[0]][key] != 0:\n",
    "                    predict_val += matrix[user_top[0]][key]*user_top[1]\n",
    "                    div_sum += user_top[1]\n",
    "                   \n",
    "            predict_val /= div_sum\n",
    "            recommend_list.append([key,predict_val])\n",
    "        else:\n",
    "            continue\n",
    "    top = sorted(recommend_list,key = lambda x:x[1],reverse = True)\n",
    "    return top[:m]\n",
    "   "
   ]
  }
 ],
 "metadata": {
  "kernelspec": {
   "display_name": "Python 2",
   "language": "python",
   "name": "python2"
  },
  "language_info": {
   "codemirror_mode": {
    "name": "ipython",
    "version": 2
   },
   "file_extension": ".py",
   "mimetype": "text/x-python",
   "name": "python",
   "nbconvert_exporter": "python",
   "pygments_lexer": "ipython2",
   "version": "2.7.10"
  }
 },
 "nbformat": 4,
 "nbformat_minor": 0
}
